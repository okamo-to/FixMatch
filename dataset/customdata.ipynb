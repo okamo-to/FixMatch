{
 "cells": [
  {
   "cell_type": "code",
   "execution_count": 4,
   "id": "d37baa3f-a55d-4a07-abe3-cbb886ebd9e2",
   "metadata": {},
   "outputs": [],
   "source": [
    "import logging\n",
    "import math\n",
    "\n",
    "import numpy as np\n",
    "from PIL import Image\n",
    "from torchvision import datasets\n",
    "from torchvision import transforms\n",
    "\n",
    "#from .randaugment import RandAugmentM\n",
    "\n",
    "class RandAugmentMC(object):\n",
    "    def __init__(self, n, m):\n",
    "        assert n >= 1\n",
    "        assert 1 <= m <= 10\n",
    "        self.n = n\n",
    "        self.m = m\n",
    "        self.augment_pool = fixmatch_augment_pool()\n",
    "\n",
    "    def __call__(self, img):\n",
    "        ops = random.choices(self.augment_pool, k=self.n)\n",
    "        for op, max_v, bias in ops:\n",
    "            v = np.random.randint(1, self.m)\n",
    "            if random.random() < 0.5:\n",
    "                img = op(img, v=v, max_v=max_v, bias=bias)\n",
    "        img = CutoutAbs(img, int(32*0.5))\n",
    "        return img\n"
   ]
  },
  {
   "cell_type": "code",
   "execution_count": null,
   "id": "e70195d5-8a04-454b-8be9-3da55f9b537f",
   "metadata": {},
   "outputs": [],
   "source": [
    "def det_custom(args, root):\n",
    "    #transform.Composeでデータをロードしたあとに行う処理の関数\n",
    "    #base_dataset download=Trueのときrootの位置にデータを保存\n",
    "    #RandomHorizontalFlip ランダムに左右反転\n",
    "    #RandomCrop size切り抜く大きさ padding上下左右にintだけパディング reflect画像の端で折り返す\n",
    "    #ToTensor　imageをテンソルに変換\n",
    "    #Normalize 正規化を行う　mean平均　std標準偏差\n",
    "    transform_labeled = transforms.Compose([\n",
    "        transforms.RandomHorizontalFlip(),\n",
    "        transforms.RandomCrop(size=32,\n",
    "                              padding=int(32*0.125),\n",
    "                              padding_mode='reflect'),\n",
    "        transforms.ToTensor(),\n",
    "        transforms.Normalize(mean=0.5, std=0.5)\n",
    "    ])\n",
    "    transform_val = transforms.Compose([\n",
    "        transforms.ToTensor(),\n",
    "        transforms.Normalize(mean=0.5, std=0.5)\n",
    "    ])\n",
    "    base_dataset = datasets.(root, train=True, download=True)\n"
   ]
  }
 ],
 "metadata": {
  "kernelspec": {
   "display_name": "Python 3 (ipykernel)",
   "language": "python",
   "name": "python3"
  },
  "language_info": {
   "codemirror_mode": {
    "name": "ipython",
    "version": 3
   },
   "file_extension": ".py",
   "mimetype": "text/x-python",
   "name": "python",
   "nbconvert_exporter": "python",
   "pygments_lexer": "ipython3",
   "version": "3.8.12"
  }
 },
 "nbformat": 4,
 "nbformat_minor": 5
}
